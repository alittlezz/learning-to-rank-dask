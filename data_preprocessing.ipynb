{
 "cells": [
  {
   "cell_type": "code",
   "execution_count": 1,
   "metadata": {
    "pycharm": {
     "name": "#%%\n"
    }
   },
   "outputs": [
    {
     "name": "stderr",
     "output_type": "stream",
     "text": [
      "c:\\users\\silviu\\appdata\\local\\programs\\python\\python38\\lib\\site-packages\\dask\\dataframe\\methods.py:333: PerformanceWarning: DataFrame is highly fragmented.  This is usually the result of calling `frame.insert` many times, which has poor performance.  Consider joining all columns at once using pd.concat(axis=1) instead.  To get a de-fragmented frame, use `newframe = frame.copy()`\n",
      "  df[name] = val\n"
     ]
    }
   ],
   "source": [
    "# Transform the txt files to CSV and use specific column names for features.\n",
    "\n",
    "from dask.dataframe import read_csv, concat\n",
    "from dask.distributed import Client, LocalCluster, wait\n",
    "\n",
    "df = read_csv('Fold1/train.txt', sep=' ', header=None)\n",
    "\n",
    "df['Relevance'] = df[0]\n",
    "df['QID'] = df[1].map(lambda x : int(x[4:]), meta=(1, int))\n",
    "for i in range(2, 138):\n",
    "    df['Feature ' + str(i - 1)] = df[i].map(lambda x : float(x.split(':')[1]), meta=(i, float))\n",
    "df = df.drop(range(139), axis=1)\n",
    "\n",
    "df.compute().to_csv(\"train.csv\", index=False)"
   ]
  },
  {
   "cell_type": "code",
   "execution_count": 1,
   "metadata": {},
   "outputs": [
    {
     "name": "stdout",
     "output_type": "stream",
     "text": [
      "[0/3] Created dashboard at http://127.0.0.1:8787/status\n"
     ]
    }
   ],
   "source": [
    "from dask.dataframe import read_csv, concat\n",
    "from dask.distributed import Client, LocalCluster, wait\n",
    "\n",
    "cluster = LocalCluster(n_workers=1)\n",
    "client = Client(cluster)\n",
    "print('[0/3] Created dashboard at', cluster.dashboard_link)\n",
    "\n",
    "df = read_csv('train_new.csv')"
   ]
  },
  {
   "cell_type": "code",
   "execution_count": 2,
   "metadata": {},
   "outputs": [
    {
     "name": "stdout",
     "output_type": "stream",
     "text": [
      "['QID']\n",
      "Index(['QID'], dtype='object')\n"
     ]
    }
   ],
   "source": [
    "from dask_ml import preprocessing\n",
    "\n",
    "le = preprocessing.OrdinalEncoder()\n",
    "cat = preprocessing.Categorizer(columns=['QID'])\n",
    "df = cat.fit_transform(df)\n",
    "print(cat.columns_)\n",
    "df = le.fit_transform(df)\n",
    "print(le.categorical_columns_)\n",
    "df = df.sort_values('QID')"
   ]
  },
  {
   "cell_type": "code",
   "execution_count": 3,
   "metadata": {},
   "outputs": [],
   "source": [
    "df.compute().to_csv(\"train_new_2.csv\", index=False)"
   ]
  }
 ],
 "metadata": {
  "kernelspec": {
   "display_name": "Python 3 (ipykernel)",
   "language": "python",
   "name": "python3"
  },
  "language_info": {
   "codemirror_mode": {
    "name": "ipython",
    "version": 3
   },
   "file_extension": ".py",
   "mimetype": "text/x-python",
   "name": "python",
   "nbconvert_exporter": "python",
   "pygments_lexer": "ipython3",
   "version": "3.8.8"
  }
 },
 "nbformat": 4,
 "nbformat_minor": 1
}